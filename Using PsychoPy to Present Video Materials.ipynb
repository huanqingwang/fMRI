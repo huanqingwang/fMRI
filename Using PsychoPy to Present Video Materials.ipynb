{
 "cells": [
  {
   "cell_type": "markdown",
   "id": "671f706d",
   "metadata": {},
   "source": [
    "__Using PsychoPy to Present Video Materials__"
   ]
  },
  {
   "cell_type": "markdown",
   "id": "9310167d",
   "metadata": {},
   "source": [
    "Writer: Huanqing Wang"
   ]
  },
  {
   "cell_type": "markdown",
   "id": "bebd1b3d",
   "metadata": {},
   "source": [
    "While using naturalistic stimulus, in many cases, we need to present videos in fMRI scanner. Here is a simple tutorial about how to insert and present video materials via PsychoPy.  \n",
    "The following are some useful links for further knowledge:  \n",
    "https://www.psychopy.org/builder/components/movie.html  \n",
    "  "
   ]
  },
  {
   "cell_type": "markdown",
   "id": "c03b633a",
   "metadata": {},
   "source": [
    "#### Initialize"
   ]
  },
  {
   "attachments": {},
   "cell_type": "markdown",
   "id": "d49262e9",
   "metadata": {},
   "source": [
    "create a new experiment file and then named it  \n",
    "    \n",
    "<img src=https://github.com/huanqingwang/fMRI/blob/main/pics_material/2.PNG?raw=true width=\"600\">"
   ]
  },
  {
   "cell_type": "markdown",
   "id": "0542b7d7",
   "metadata": {},
   "source": [
    "Usually, I like to set three trails in a RUN, the first trail will be instruction and let the system initial the RUN; the second trail will be the video present trail; the third trail will be the end of the RUN."
   ]
  },
  {
   "attachments": {},
   "cell_type": "markdown",
   "id": "3419f523",
   "metadata": {},
   "source": [
    "In the 'Flow' section, choise 'Insert Routine', create new trail, rename each trail to your preference names.  \n",
    "  \n",
    "<img src=\"C:/Users/54224/Desktop/Scripts/tutorials/psychopy_vids/3.png\" width=\"600\">"
   ]
  },
  {
   "cell_type": "markdown",
   "id": "3f90aeb5",
   "metadata": {},
   "source": [
    "#### Set the instruction trail"
   ]
  },
  {
   "cell_type": "markdown",
   "id": "9fda37ea",
   "metadata": {},
   "source": [
    "In the instruction trail, usually we need to put some basic instructions for participants. So, I will insert 'Text' component into this trail. Also, we need to collect a response so that the scanner system can initial the scanning section, so I will insert a 'Keyboard' component to receive the initiate signal.  \n",
    "  \n",
    "<img src=\"C:/Users/54224/Desktop/Scripts/tutorials/psychopy_vids/4.png\" width=\"600\">"
   ]
  },
  {
   "cell_type": "markdown",
   "id": "d7722460",
   "metadata": {},
   "source": [
    "For the text component, I renamed it as 'instruction', rename can help me distinguish each component's usage. The strart time is 0, means that this 'instruction' Text component will be presented at the 0s of the trail. I assigned a blank to the 'duration' part because I need the system OR participant's response to proceed to the next trail. And I will set the response key in the 'Keyboard' component so that PsychoPy can recognize the signal to proceed. But you can set the 'duration' time based on what you need, like if you want to present some instruction for 10s, you can just input '10' in the duration section. In the 'Text' section, I input the text that I want to present.  \n",
    "  \n",
    "<img src=\"C:/Users/54224/Desktop/Scripts/tutorials/psychopy_vids/5.png\" width=\"600\">"
   ]
  },
  {
   "cell_type": "markdown",
   "id": "5c6b31d3",
   "metadata": {},
   "source": [
    "For the 'Keyboard' component, I want PsychoPy to recognize the signal and then proceed. So I also assign a blank to the 'duration' section. In the 'Allowed keys' section, I set an 's' so that when I input 's', PsychoPy will recognize it and proceed to the next part. If I don't type 's' or type other keys, it will stay in the instruction page and won't proceed.  \n",
    "  \n",
    "<img src=\"C:/Users/54224/Desktop/Scripts/tutorials/psychopy_vids/6.png\" width=\"600\">"
   ]
  },
  {
   "cell_type": "markdown",
   "id": "12375924",
   "metadata": {},
   "source": [
    "After complete all the above settings, the 'Instruc' trail will look like this  \n",
    "  \n",
    "<img src=\"C:/Users/54224/Desktop/Scripts/tutorials/psychopy_vids/7.png\" width=\"600\">"
   ]
  },
  {
   "cell_type": "markdown",
   "id": "29a60f27",
   "metadata": {},
   "source": [
    "#### Set the movie trail"
   ]
  },
  {
   "cell_type": "markdown",
   "id": "4bbe9651",
   "metadata": {},
   "source": [
    "Now we should nevigate to 'Movie1' trail, and then click the 'Movie' component in the components section  \n",
    "  \n",
    "<img src=\"C:/Users/54224/Desktop/Scripts/tutorials/psychopy_vids/8.png\" width=\"600\">"
   ]
  },
  {
   "cell_type": "markdown",
   "id": "4990cbca",
   "metadata": {},
   "source": [
    "To set the movie properties, rename the movie name as you like. I assign a blank to the 'Stop' -- 'duration' section because I want the whole video I selected can be fully presented. Remember to check the 'Force end of Routine', so that after the video end, the PsychoPy can automatically proceed to the next trail. In the 'Movie file' section, choose the movie you want to present. __I suggest to put the PsychoPy file and the video files into a file document, so that it's easy to find and extract the related files.__    \n",
    "  \n",
    "<img src=\"C:/Users/54224/Desktop/Scripts/tutorials/psychopy_vids/9.png\" width=\"600\">"
   ]
  },
  {
   "cell_type": "markdown",
   "id": "12c3f721",
   "metadata": {},
   "source": [
    "Advanced movie setting  \n",
    "In the 'Layout' section, you can set the movie's size, position, orientation, etc. For size, if you want your movie to stretch to the whole screen, you can adjust the length and width by specifying a x,y pair, for example [1.5,1], or [2,2]. You can set the movie position by specifying the [x,y] on the axis. You can rotate the movie by assigning value to the 'Orientation' section.  \n",
    "  \n",
    "<img src=\"C:/Users/54224/Desktop/Scripts/tutorials/psychopy_vids/10.png\" width=\"600\">"
   ]
  },
  {
   "cell_type": "markdown",
   "id": "14a434d4",
   "metadata": {},
   "source": [
    "After all the above settings, the 'Movie1' trail should look like this  \n",
    "  \n",
    "<img src=\"11.png\" width=\"600\">"
   ]
  },
  {
   "cell_type": "markdown",
   "id": "f5e07295",
   "metadata": {},
   "source": [
    "#### Set the End trail"
   ]
  },
  {
   "cell_type": "markdown",
   "id": "49a85fc4",
   "metadata": {},
   "source": [
    "I used to insert an end trail for the RUN, usually will end up with pressing a 'space'."
   ]
  },
  {
   "cell_type": "markdown",
   "id": "b0f6d188",
   "metadata": {},
   "source": [
    "Navigate to the 'End' trail, select 'Text' and 'Keyboard' component.\n",
    "<img src=\"C:/Users/54224/Desktop/Scripts/tutorials/psychopy_vids/12.png\" width=\"600\">"
   ]
  },
  {
   "cell_type": "markdown",
   "id": "308da950",
   "metadata": {},
   "source": [
    "Same as 'Instruc' trail, I will put some text in 'Text' component, and set an 'Allowed keys' in the 'Keyboard component.  \n",
    "  \n",
    "<img src=\"C:/Users/54224/Desktop/Scripts/tutorials/psychopy_vids/13.png\" width=\"600\">  \n",
    "  \n",
    "<img src=\"C:/Users/54224/Desktop/Scripts/tutorials/psychopy_vids/14.png\" width=\"600\">  "
   ]
  },
  {
   "cell_type": "markdown",
   "id": "16173c1a",
   "metadata": {},
   "source": [
    "After all the above settings, it should look like this  \n",
    "  \n",
    "<img src=\"C:/Users/54224/Desktop/Scripts/tutorials/psychopy_vids/15.png\" width=\"600\">  "
   ]
  },
  {
   "cell_type": "markdown",
   "id": "597ce785",
   "metadata": {},
   "source": [
    "  \n",
    "Congrats! Now you have successfully build an experiment for presenting videos!  \n",
    "You can run the experiment to make sure every is OK.  \n",
    "Remember to save the file every time you have proceeded.  "
   ]
  }
 ],
 "metadata": {
  "hide_input": false,
  "kernelspec": {
   "display_name": "Python 3",
   "language": "python",
   "name": "python3"
  },
  "language_info": {
   "codemirror_mode": {
    "name": "ipython",
    "version": 3
   },
   "file_extension": ".py",
   "mimetype": "text/x-python",
   "name": "python",
   "nbconvert_exporter": "python",
   "pygments_lexer": "ipython3",
   "version": "3.8.8"
  },
  "toc": {
   "base_numbering": 1,
   "nav_menu": {},
   "number_sections": true,
   "sideBar": true,
   "skip_h1_title": false,
   "title_cell": "Table of Contents",
   "title_sidebar": "Contents",
   "toc_cell": false,
   "toc_position": {},
   "toc_section_display": true,
   "toc_window_display": false
  },
  "varInspector": {
   "cols": {
    "lenName": 16,
    "lenType": 16,
    "lenVar": 40
   },
   "kernels_config": {
    "python": {
     "delete_cmd_postfix": "",
     "delete_cmd_prefix": "del ",
     "library": "var_list.py",
     "varRefreshCmd": "print(var_dic_list())"
    },
    "r": {
     "delete_cmd_postfix": ") ",
     "delete_cmd_prefix": "rm(",
     "library": "var_list.r",
     "varRefreshCmd": "cat(var_dic_list()) "
    }
   },
   "types_to_exclude": [
    "module",
    "function",
    "builtin_function_or_method",
    "instance",
    "_Feature"
   ],
   "window_display": false
  }
 },
 "nbformat": 4,
 "nbformat_minor": 5
}
